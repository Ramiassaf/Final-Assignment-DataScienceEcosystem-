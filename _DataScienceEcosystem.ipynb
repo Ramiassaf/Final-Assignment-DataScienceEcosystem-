{
 "cells": [
  {
   "cell_type": "markdown",
   "metadata": {},
   "source": [
    "<center>\n",
    "    <img src=\"https://cf-courses-data.s3.us.cloud-object-storage.appdomain.cloud/IBMDeveloperSkillsNetwork-DS0105EN-SkillsNetwork/labs/Module2/images/SN_web_lightmode.png\" width=\"300\" alt=\"cognitiveclass.ai logo\">\n",
    "</center>\n"
   ]
  },
  {
   "cell_type": "markdown",
   "metadata": {},
   "source": [
    "#### Add your code below following the instructions given in the course\n"
   ]
  },
  {
   "cell_type": "markdown",
   "metadata": {},
   "source": [
    "# Data Science Tools and Ecosystem"
   ]
  },
  {
   "cell_type": "markdown",
   "metadata": {},
   "source": [
    "#In this notebook, Data Science Tools and Ecosystem are summarized.\n"
   ]
  },
  {
   "cell_type": "markdown",
   "metadata": {},
   "source": [
    "***Objective***\n",
    "- List popular languages for Data Science\n",
    "- Discuss commonly used libraries for Data Science\n",
    "- Demonstrate how to create a table in a Jupyter notebook\n",
    "- Show how to multiply and add numbers in Python\n",
    "- Provide an example of converting minutes to hours\n"
   ]
  },
  {
   "cell_type": "markdown",
   "metadata": {},
   "source": [
    "# Some of the popular languages that Data Scientists use are:\n",
    "\n",
    "1. Python: Python is the most widely used language for data science due to its simplicity, readability, and versatility. It has a large and active community, with plenty of libraries and frameworks for data analysis, machine learning, and visualization.\n",
    "\n",
    "2. R: R is another popular language for data science, especially among statisticians. It has excellent support for statistical modeling and visualization, and a wide range of packages for data analysis, machine learning, and graphics.\n",
    "\n",
    "3. SQL: SQL (Structured Query Language) is a domain-specific language used for managing and querying relational databases. It is an essential tool for data scientists who work with large datasets stored in databases, data warehouses, or data lakes.\n",
    "\n"
   ]
  },
  {
   "cell_type": "markdown",
   "metadata": {},
   "source": [
    "# Some of the commonly used libraries used by Data Scientists include:\n",
    "\n",
    "1. NumPy: NumPy is a fundamental library for scientific computing in Python. It provides support for multidimensional arrays, mathematical functions, linear algebra operations, random number generation, and more.\n",
    "\n",
    "2. Pandas: Pandas is a popular library for data manipulation and analysis in Python. It provides powerful data structures, such as DataFrame and Series, that allow users to perform operations on tabular and time-series data.\n",
    "\n",
    "3. Matplotlib: Matplotlib is a comprehensive library for creating static, animated, and interactive visualizations in Python. It provides a wide range of chart types, styles, and customization options for creating high-quality plots.\n",
    "\n",
    "4. Scikit-learn: Scikit-learn is a machine learning library for Python that provides simple and efficient tools for data mining and data analysis. It includes algorithms for classification, regression, clustering, and dimensionality reduction, as well as utilities for model selection\n"
   ]
  },
  {
   "cell_type": "markdown",
   "metadata": {},
   "source": [
    "| Data Science Tools |\n",
    "| :----------------- |\n",
    "| Jupyter Notebook    |\n",
    "| Spyder              |\n",
    "|RStudio |\n"
   ]
  },
  {
   "cell_type": "markdown",
   "metadata": {},
   "source": [
    "### Below are a few examples of evaluating arithmetic expressions in Python.\n"
   ]
  },
  {
   "cell_type": "code",
   "execution_count": 1,
   "metadata": {
    "tags": []
   },
   "outputs": [
    {
     "data": {
      "text/plain": [
       "17"
      ]
     },
     "execution_count": 1,
     "metadata": {},
     "output_type": "execute_result"
    }
   ],
   "source": [
    "(3*4)+5"
   ]
  },
  {
   "cell_type": "code",
   "execution_count": 7,
   "metadata": {
    "tags": []
   },
   "outputs": [
    {
     "name": "stdout",
     "output_type": "stream",
     "text": [
      "3\n"
     ]
    }
   ],
   "source": [
    "#This will convert 200 minutes to hours by diving by 60\n",
    "hours = 200/60\n",
    "print(int(round(hours)))"
   ]
  },
  {
   "cell_type": "markdown",
   "metadata": {},
   "source": [
    "## Author\n",
    "Rami Assaf"
   ]
  },
  {
   "cell_type": "code",
   "execution_count": null,
   "metadata": {},
   "outputs": [],
   "source": []
  }
 ],
 "metadata": {
  "kernelspec": {
   "display_name": "Python",
   "language": "python",
   "name": "conda-env-python-py"
  },
  "language_info": {
   "codemirror_mode": {
    "name": "ipython",
    "version": 3
   },
   "file_extension": ".py",
   "mimetype": "text/x-python",
   "name": "python",
   "nbconvert_exporter": "python",
   "pygments_lexer": "ipython3",
   "version": "3.7.12"
  }
 },
 "nbformat": 4,
 "nbformat_minor": 4
}
